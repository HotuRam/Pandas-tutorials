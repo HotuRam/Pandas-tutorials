{
 "cells": [
  {
   "cell_type": "code",
   "execution_count": 2,
   "source": [
    "[1+1]"
   ],
   "outputs": [
    {
     "output_type": "execute_result",
     "data": {
      "text/plain": [
       "[2]"
      ]
     },
     "metadata": {},
     "execution_count": 2
    }
   ],
   "metadata": {}
  },
  {
   "cell_type": "code",
   "execution_count": 4,
   "source": [
    "#pandas course in 13 important command line you should know "
   ],
   "outputs": [],
   "metadata": {}
  },
  {
   "cell_type": "code",
   "execution_count": 5,
   "source": [
    "import pandas as pd"
   ],
   "outputs": [],
   "metadata": {}
  },
  {
   "cell_type": "code",
   "execution_count": 10,
   "source": [
    "path = r'C:\\Users\\my-pc\\Desktop\\anaconda\\hotu_data_scientist_resume\\interview 110921\\Pandas-tutorials\\data\\blog_dataset.csv'\r\n",
    "data_f=pd.read_csv(path)"
   ],
   "outputs": [],
   "metadata": {}
  },
  {
   "cell_type": "code",
   "execution_count": 11,
   "source": [
    "data_f.head(7)"
   ],
   "outputs": [
    {
     "output_type": "execute_result",
     "data": {
      "text/html": [
       "<div>\n",
       "<style scoped>\n",
       "    .dataframe tbody tr th:only-of-type {\n",
       "        vertical-align: middle;\n",
       "    }\n",
       "\n",
       "    .dataframe tbody tr th {\n",
       "        vertical-align: top;\n",
       "    }\n",
       "\n",
       "    .dataframe thead th {\n",
       "        text-align: right;\n",
       "    }\n",
       "</style>\n",
       "<table border=\"1\" class=\"dataframe\">\n",
       "  <thead>\n",
       "    <tr style=\"text-align: right;\">\n",
       "      <th></th>\n",
       "      <th>Name</th>\n",
       "      <th>Age</th>\n",
       "      <th>City</th>\n",
       "      <th>State</th>\n",
       "      <th>DOB</th>\n",
       "      <th>Gender</th>\n",
       "      <th>City temperature</th>\n",
       "      <th>Salary</th>\n",
       "    </tr>\n",
       "  </thead>\n",
       "  <tbody>\n",
       "    <tr>\n",
       "      <th>0</th>\n",
       "      <td>Alam</td>\n",
       "      <td>29</td>\n",
       "      <td>Indore</td>\n",
       "      <td>Madhya Pradesh</td>\n",
       "      <td>20-11-1991</td>\n",
       "      <td>Male</td>\n",
       "      <td>35.5</td>\n",
       "      <td>50000</td>\n",
       "    </tr>\n",
       "    <tr>\n",
       "      <th>1</th>\n",
       "      <td>Rohit</td>\n",
       "      <td>23</td>\n",
       "      <td>New Delhi</td>\n",
       "      <td>Delhi</td>\n",
       "      <td>19-09-1997</td>\n",
       "      <td>Male</td>\n",
       "      <td>39.0</td>\n",
       "      <td>85000</td>\n",
       "    </tr>\n",
       "    <tr>\n",
       "      <th>2</th>\n",
       "      <td>Bimla</td>\n",
       "      <td>35</td>\n",
       "      <td>Rohtak</td>\n",
       "      <td>Haryana</td>\n",
       "      <td>09-01-1985</td>\n",
       "      <td>Female</td>\n",
       "      <td>39.7</td>\n",
       "      <td>20000</td>\n",
       "    </tr>\n",
       "    <tr>\n",
       "      <th>3</th>\n",
       "      <td>Rahul</td>\n",
       "      <td>25</td>\n",
       "      <td>Kolkata</td>\n",
       "      <td>West Bengal</td>\n",
       "      <td>19-09-1995</td>\n",
       "      <td>Male</td>\n",
       "      <td>36.5</td>\n",
       "      <td>40000</td>\n",
       "    </tr>\n",
       "    <tr>\n",
       "      <th>4</th>\n",
       "      <td>Chaman</td>\n",
       "      <td>32</td>\n",
       "      <td>Chennai</td>\n",
       "      <td>Tamil Nadu</td>\n",
       "      <td>12-03-1988</td>\n",
       "      <td>Male</td>\n",
       "      <td>41.1</td>\n",
       "      <td>65000</td>\n",
       "    </tr>\n",
       "    <tr>\n",
       "      <th>5</th>\n",
       "      <td>Vivek</td>\n",
       "      <td>38</td>\n",
       "      <td>Gurugram</td>\n",
       "      <td>Haryana</td>\n",
       "      <td>22-06-1982</td>\n",
       "      <td>Male</td>\n",
       "      <td>38.9</td>\n",
       "      <td>35000</td>\n",
       "    </tr>\n",
       "    <tr>\n",
       "      <th>6</th>\n",
       "      <td>Charu</td>\n",
       "      <td>29</td>\n",
       "      <td>New Delhi</td>\n",
       "      <td>Delhi</td>\n",
       "      <td>18-03-1992</td>\n",
       "      <td>Female</td>\n",
       "      <td>39.0</td>\n",
       "      <td>52000</td>\n",
       "    </tr>\n",
       "  </tbody>\n",
       "</table>\n",
       "</div>"
      ],
      "text/plain": [
       "     Name  Age       City           State         DOB  Gender  \\\n",
       "0    Alam   29     Indore  Madhya Pradesh  20-11-1991    Male   \n",
       "1   Rohit   23  New Delhi           Delhi  19-09-1997    Male   \n",
       "2   Bimla   35     Rohtak         Haryana  09-01-1985  Female   \n",
       "3   Rahul   25    Kolkata     West Bengal  19-09-1995    Male   \n",
       "4  Chaman   32    Chennai      Tamil Nadu  12-03-1988    Male   \n",
       "5   Vivek   38   Gurugram         Haryana  22-06-1982    Male   \n",
       "6   Charu   29  New Delhi           Delhi  18-03-1992  Female   \n",
       "\n",
       "   City temperature  Salary  \n",
       "0              35.5   50000  \n",
       "1              39.0   85000  \n",
       "2              39.7   20000  \n",
       "3              36.5   40000  \n",
       "4              41.1   65000  \n",
       "5              38.9   35000  \n",
       "6              39.0   52000  "
      ]
     },
     "metadata": {},
     "execution_count": 11
    }
   ],
   "metadata": {}
  },
  {
   "cell_type": "code",
   "execution_count": 12,
   "source": [
    "data_f.tail(4)"
   ],
   "outputs": [
    {
     "output_type": "execute_result",
     "data": {
      "text/html": [
       "<div>\n",
       "<style scoped>\n",
       "    .dataframe tbody tr th:only-of-type {\n",
       "        vertical-align: middle;\n",
       "    }\n",
       "\n",
       "    .dataframe tbody tr th {\n",
       "        vertical-align: top;\n",
       "    }\n",
       "\n",
       "    .dataframe thead th {\n",
       "        text-align: right;\n",
       "    }\n",
       "</style>\n",
       "<table border=\"1\" class=\"dataframe\">\n",
       "  <thead>\n",
       "    <tr style=\"text-align: right;\">\n",
       "      <th></th>\n",
       "      <th>Name</th>\n",
       "      <th>Age</th>\n",
       "      <th>City</th>\n",
       "      <th>State</th>\n",
       "      <th>DOB</th>\n",
       "      <th>Gender</th>\n",
       "      <th>City temperature</th>\n",
       "      <th>Salary</th>\n",
       "    </tr>\n",
       "  </thead>\n",
       "  <tbody>\n",
       "    <tr>\n",
       "      <th>5</th>\n",
       "      <td>Vivek</td>\n",
       "      <td>38</td>\n",
       "      <td>Gurugram</td>\n",
       "      <td>Haryana</td>\n",
       "      <td>22-06-1982</td>\n",
       "      <td>Male</td>\n",
       "      <td>38.9</td>\n",
       "      <td>35000</td>\n",
       "    </tr>\n",
       "    <tr>\n",
       "      <th>6</th>\n",
       "      <td>Charu</td>\n",
       "      <td>29</td>\n",
       "      <td>New Delhi</td>\n",
       "      <td>Delhi</td>\n",
       "      <td>18-03-1992</td>\n",
       "      <td>Female</td>\n",
       "      <td>39.0</td>\n",
       "      <td>52000</td>\n",
       "    </tr>\n",
       "    <tr>\n",
       "      <th>7</th>\n",
       "      <td>Ganesh</td>\n",
       "      <td>39</td>\n",
       "      <td>Patna</td>\n",
       "      <td>Bihar</td>\n",
       "      <td>07-12-1981</td>\n",
       "      <td>Male</td>\n",
       "      <td>NaN</td>\n",
       "      <td>18000</td>\n",
       "    </tr>\n",
       "    <tr>\n",
       "      <th>8</th>\n",
       "      <td>Vivek</td>\n",
       "      <td>38</td>\n",
       "      <td>Gurugram</td>\n",
       "      <td>Haryana</td>\n",
       "      <td>22-06-1982</td>\n",
       "      <td>Male</td>\n",
       "      <td>38.9</td>\n",
       "      <td>35000</td>\n",
       "    </tr>\n",
       "  </tbody>\n",
       "</table>\n",
       "</div>"
      ],
      "text/plain": [
       "     Name  Age       City    State         DOB  Gender  City temperature  \\\n",
       "5   Vivek   38   Gurugram  Haryana  22-06-1982    Male              38.9   \n",
       "6   Charu   29  New Delhi    Delhi  18-03-1992  Female              39.0   \n",
       "7  Ganesh   39      Patna    Bihar  07-12-1981    Male               NaN   \n",
       "8   Vivek   38   Gurugram  Haryana  22-06-1982    Male              38.9   \n",
       "\n",
       "   Salary  \n",
       "5   35000  \n",
       "6   52000  \n",
       "7   18000  \n",
       "8   35000  "
      ]
     },
     "metadata": {},
     "execution_count": 12
    }
   ],
   "metadata": {}
  },
  {
   "cell_type": "code",
   "execution_count": null,
   "source": [],
   "outputs": [],
   "metadata": {}
  }
 ],
 "metadata": {
  "orig_nbformat": 4,
  "language_info": {
   "name": "python",
   "version": "3.7.11",
   "mimetype": "text/x-python",
   "codemirror_mode": {
    "name": "ipython",
    "version": 3
   },
   "pygments_lexer": "ipython3",
   "nbconvert_exporter": "python",
   "file_extension": ".py"
  },
  "kernelspec": {
   "name": "python3",
   "display_name": "Python 3.7.11 64-bit ('credit': conda)"
  },
  "interpreter": {
   "hash": "3f2cce15f9523cc617e64d766c0d361895395c2a3bc5a1750d152f120ce34420"
  }
 },
 "nbformat": 4,
 "nbformat_minor": 2
}